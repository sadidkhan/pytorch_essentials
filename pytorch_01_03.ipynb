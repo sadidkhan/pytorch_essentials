{
  "nbformat": 4,
  "nbformat_minor": 0,
  "metadata": {
    "colab": {
      "provenance": [],
      "gpuType": "T4",
      "authorship_tag": "ABX9TyN4gaIGz/lV7w6Ufxn4r9kv",
      "include_colab_link": true
    },
    "kernelspec": {
      "name": "python3",
      "display_name": "Python 3"
    },
    "language_info": {
      "name": "python"
    },
    "accelerator": "GPU"
  },
  "cells": [
    {
      "cell_type": "markdown",
      "metadata": {
        "id": "view-in-github",
        "colab_type": "text"
      },
      "source": [
        "<a href=\"https://colab.research.google.com/github/sadidkhan/pytorch_essentials/blob/main/pytorch_01_03.ipynb\" target=\"_parent\"><img src=\"https://colab.research.google.com/assets/colab-badge.svg\" alt=\"Open In Colab\"/></a>"
      ]
    },
    {
      "cell_type": "code",
      "execution_count": 3,
      "metadata": {
        "id": "SZVTtigPfqLd",
        "colab": {
          "base_uri": "https://localhost:8080/"
        },
        "outputId": "0694a8df-a825-41f4-f194-48e6a40b2b10"
      },
      "outputs": [
        {
          "output_type": "stream",
          "name": "stdout",
          "text": [
            "2.8.0+cu126\n",
            "True\n",
            "cuda:0\n"
          ]
        }
      ],
      "source": [
        "import torch\n",
        "\n",
        "print(torch.__version__)\n",
        "print(torch.cuda.is_available())\n",
        "\n",
        "device = torch.device(\"cuda:0\" if torch.cuda.is_available() else \"cpu\")\n",
        "print(device)\n",
        "\n"
      ]
    },
    {
      "cell_type": "code",
      "source": [
        "tensor1 = torch.tensor([[12,10,11,9],[13,15,14,16]])\n",
        "tensor2 = torch.tensor([[1,2,3,4],[5,6,7,8]])\n",
        "print(tensor1)\n",
        "print(tensor2)\n",
        "\n",
        "add_tensor = tensor1 + tensor2\n",
        "print(add_tensor)\n",
        "print(add_tensor.size())"
      ],
      "metadata": {
        "colab": {
          "base_uri": "https://localhost:8080/"
        },
        "id": "r31y4tFWiC3Y",
        "outputId": "a596355e-9288-4606-9fd1-a0f724798a81"
      },
      "execution_count": 12,
      "outputs": [
        {
          "output_type": "stream",
          "name": "stdout",
          "text": [
            "tensor([[12, 10, 11,  9],\n",
            "        [13, 15, 14, 16]])\n",
            "tensor([[1, 2, 3, 4],\n",
            "        [5, 6, 7, 8]])\n",
            "tensor([[13, 12, 14, 13],\n",
            "        [18, 21, 21, 24]])\n",
            "torch.Size([2, 4])\n"
          ]
        }
      ]
    },
    {
      "cell_type": "code",
      "source": [],
      "metadata": {
        "id": "RpZ9qaqLybUp"
      },
      "execution_count": null,
      "outputs": []
    },
    {
      "cell_type": "code",
      "source": [
        "sub_tesnor = tensor1 - tensor2\n",
        "print(sub_tesnor)"
      ],
      "metadata": {
        "colab": {
          "base_uri": "https://localhost:8080/"
        },
        "id": "ccip0SBolb4g",
        "outputId": "b00c7857-2b6a-474b-9049-548e39e1f570"
      },
      "execution_count": 8,
      "outputs": [
        {
          "output_type": "stream",
          "name": "stdout",
          "text": [
            "tensor([[11,  8,  8,  5],\n",
            "        [ 8,  9,  7,  8]], device='cuda:0')\n"
          ]
        }
      ]
    },
    {
      "cell_type": "code",
      "source": [
        "device = torch.device(\"cuda:0\" if torch.cuda.is_available() else \"cpu\")\n",
        "print(device)\n",
        "\n",
        "\n",
        "tensor_A = torch.tensor([[1,2,3],[4,5,6]], device=device)\n",
        "tensor_B = torch.tensor([[10,20,30],[40,50,60]], device=device)\n",
        "print(tensor_A)\n",
        "print(tensor_B)\n",
        "\n",
        "mul_tensor = tensor_A * tensor_B\n",
        "print(mul_tensor)"
      ],
      "metadata": {
        "colab": {
          "base_uri": "https://localhost:8080/"
        },
        "id": "FDy3aB7rwrH8",
        "outputId": "27261b9e-6287-4320-e6e3-2973264ec914"
      },
      "execution_count": 10,
      "outputs": [
        {
          "output_type": "stream",
          "name": "stdout",
          "text": [
            "cuda:0\n",
            "tensor([[1, 2, 3],\n",
            "        [4, 5, 6]], device='cuda:0')\n",
            "tensor([[10, 20, 30],\n",
            "        [40, 50, 60]], device='cuda:0')\n",
            "tensor([[ 10,  40,  90],\n",
            "        [160, 250, 360]], device='cuda:0')\n"
          ]
        }
      ]
    },
    {
      "cell_type": "code",
      "source": [
        "import numpy as np\n",
        "\n",
        "tensor_from_list = torch.tensor([1,2,3,4,5])\n",
        "print(\"from list\", tensor_from_list)\n",
        "\n",
        "\n",
        "tensor_from_touple = torch.tensor((1,2,3,4,5))\n",
        "print(\"from touple\", tensor_from_touple)\n",
        "\n",
        "tensor_from_numpy = torch.tensor(np.array([1,2,3,4,5]))\n",
        "print(\"from numpy array\",tensor_from_numpy)"
      ],
      "metadata": {
        "colab": {
          "base_uri": "https://localhost:8080/"
        },
        "id": "P_oO34i9yc55",
        "outputId": "f46fbba6-ce29-4804-8a44-3560f4e46468"
      },
      "execution_count": 15,
      "outputs": [
        {
          "output_type": "stream",
          "name": "stdout",
          "text": [
            "from list tensor([1, 2, 3, 4, 5])\n",
            "from touple tensor([1, 2, 3, 4, 5])\n",
            "from numpy array tensor([1, 2, 3, 4, 5])\n"
          ]
        }
      ]
    },
    {
      "cell_type": "markdown",
      "source": [
        "# Different functions to create tensors"
      ],
      "metadata": {
        "id": "PzqglDTzzh3k"
      }
    },
    {
      "cell_type": "code",
      "source": [
        "empty_torch = torch.empty(2,3)\n",
        "print(\"empty\", empty_torch)\n",
        "\n",
        "zero_tensor = torch.zeros(2,3)\n",
        "print(\"sero\", zero_tensor)\n",
        "\n",
        "one_tensor = torch.ones(2,3)\n",
        "print(\"one\", one_tensor)\n"
      ],
      "metadata": {
        "colab": {
          "base_uri": "https://localhost:8080/"
        },
        "id": "WMLNFMjGzrbX",
        "outputId": "8e064be2-35e5-4c8e-bf21-d315aa5dd63b"
      },
      "execution_count": 16,
      "outputs": [
        {
          "output_type": "stream",
          "name": "stdout",
          "text": [
            "empty tensor([[3.6022e-12, 7.1223e+28, 3.0958e-18],\n",
            "        [4.8354e+30, 1.1516e-38, 1.7419e+28]])\n",
            "sero tensor([[0., 0., 0.],\n",
            "        [0., 0., 0.]])\n",
            "one tensor([[1., 1., 1.],\n",
            "        [1., 1., 1.]])\n",
            "rand tensor([[0.7345, 0.2935, 0.1863],\n",
            "        [0.2979, 0.4035, 0.2621]])\n"
          ]
        }
      ]
    },
    {
      "cell_type": "code",
      "source": [
        "random_tensor = torch.rand(2,3)\n",
        "print(\"rand\", random_tensor)\n",
        "\n",
        "# random numbers between 0 and 1 (e.g., initialization, sampling probabilities).\n",
        "random_tensor_uniform = torch.rand(4,5)\n",
        "print(\"uniform\", random_tensor_uniform)\n",
        "\n",
        "random_tensor_normal = torch.randn(4,5)\n",
        "print(\"normal\", random_tensor_normal)\n",
        "\n",
        "random_tensor_int = torch.randint(0,10,(4,5))\n",
        "print(\"int\", random_tensor_int)"
      ],
      "metadata": {
        "colab": {
          "base_uri": "https://localhost:8080/"
        },
        "id": "KPsC9PdB1ZHm",
        "outputId": "1e07e0a9-3a52-4da2-9b91-26850172c893"
      },
      "execution_count": 17,
      "outputs": [
        {
          "output_type": "stream",
          "name": "stdout",
          "text": [
            "rand tensor([[0.4312, 0.6736, 0.2079],\n",
            "        [0.0132, 0.7635, 0.2186]])\n",
            "uniform tensor([[0.5573, 0.5176, 0.6631, 0.6794, 0.9106],\n",
            "        [0.7785, 0.5090, 0.4272, 0.9792, 0.5389],\n",
            "        [0.5356, 0.3013, 0.8022, 0.3377, 0.5571],\n",
            "        [0.3168, 0.4504, 0.5921, 0.6431, 0.8521]])\n",
            "normal tensor([[-1.0427,  1.8181, -1.5166,  0.4169, -0.7777],\n",
            "        [-1.6937, -1.4832, -0.3190,  0.9930,  1.3114],\n",
            "        [ 0.4345,  1.1208,  0.7127, -1.5012, -0.9539],\n",
            "        [-0.5668, -0.0423,  1.1608, -0.6446,  1.0335]])\n",
            "int tensor([[4, 3, 6, 9, 4],\n",
            "        [0, 1, 4, 5, 0],\n",
            "        [0, 9, 3, 8, 0],\n",
            "        [1, 6, 5, 9, 7]])\n"
          ]
        }
      ]
    },
    {
      "cell_type": "code",
      "source": [
        "ones_tensor_like = torch.ones_like(random_tensor_int) # it will copy the shape, datatype and device type of random_tensor_int\n",
        "print(ones_tensor_like)\n",
        "\n",
        "#change it to randn\n",
        "ones_tensor_like = torch.ones_like(random_tensor_)\n",
        "print(ones_tensor_like)\n"
      ],
      "metadata": {
        "colab": {
          "base_uri": "https://localhost:8080/"
        },
        "id": "Wr9GoZgn3IKw",
        "outputId": "63639971-54b5-4f56-96a2-3ec9e9236ab7"
      },
      "execution_count": 21,
      "outputs": [
        {
          "output_type": "stream",
          "name": "stdout",
          "text": [
            "tensor([[1, 1, 1, 1, 1],\n",
            "        [1, 1, 1, 1, 1],\n",
            "        [1, 1, 1, 1, 1],\n",
            "        [1, 1, 1, 1, 1]])\n",
            "tensor([[1., 1., 1., 1., 1.],\n",
            "        [1., 1., 1., 1., 1.],\n",
            "        [1., 1., 1., 1., 1.],\n",
            "        [1., 1., 1., 1., 1.]])\n"
          ]
        }
      ]
    },
    {
      "cell_type": "markdown",
      "source": [
        "# Tensor Attributes"
      ],
      "metadata": {
        "id": "mVL3LknI4iGz"
      }
    },
    {
      "cell_type": "code",
      "source": [
        "import torch\n",
        "\n",
        "tensor1 = torch.tensor([[12,10,11,9],[13,15,14,16]])\n",
        "\n",
        "\n",
        "# device of tensor\n",
        "print(tensor1.device)\n",
        "\n",
        "#dtype of tensor\n",
        "print(tensor1.dtype)\n",
        "\n",
        "#shape of tensor\n",
        "print(tensor1.shape)\n",
        "\n",
        "#tensor dimension\n",
        "print(tensor1.ndim)"
      ],
      "metadata": {
        "colab": {
          "base_uri": "https://localhost:8080/"
        },
        "id": "VcDAIvAF4ngb",
        "outputId": "b737d691-afb7-4417-a6c2-c8a6dc34e6ee"
      },
      "execution_count": 24,
      "outputs": [
        {
          "output_type": "stream",
          "name": "stdout",
          "text": [
            "cpu\n",
            "torch.int64\n",
            "torch.Size([2, 4])\n",
            "2\n"
          ]
        }
      ]
    },
    {
      "cell_type": "markdown",
      "source": [
        "# Tensor Data types"
      ],
      "metadata": {
        "id": "PmJGlvxl5pHt"
      }
    },
    {
      "cell_type": "code",
      "source": [
        "tensor1 = torch.tensor([[12,10,11,9],[13,15,14,16]], dtype=torch.float16)\n",
        "print(tensor1)\n",
        "print(tensor1.dtype)\n",
        "\n",
        "\n",
        "tensor1 = tensor1.to(dtype=torch.int8)\n",
        "print(tensor1)\n",
        "print(tensor1.dtype)"
      ],
      "metadata": {
        "colab": {
          "base_uri": "https://localhost:8080/"
        },
        "id": "KVAboDXP5tcc",
        "outputId": "3e52bb81-688b-4a69-af01-ea12fb3fda90"
      },
      "execution_count": 27,
      "outputs": [
        {
          "output_type": "stream",
          "name": "stdout",
          "text": [
            "tensor([[12., 10., 11.,  9.],\n",
            "        [13., 15., 14., 16.]], dtype=torch.float16)\n",
            "torch.float16\n",
            "tensor([[12, 10, 11,  9],\n",
            "        [13, 15, 14, 16]], dtype=torch.int8)\n",
            "torch.int8\n"
          ]
        }
      ]
    },
    {
      "cell_type": "markdown",
      "source": [
        "# Combine and spit tensor"
      ],
      "metadata": {
        "id": "DHmgnzg3APjf"
      }
    },
    {
      "cell_type": "code",
      "source": [
        "tensor_two_dim = torch.randint(1,20, (4,6)).to(device=device)\n",
        "print(tensor_two_dim)\n",
        "\n",
        "# get tensors that has value less than 11\n",
        "\n",
        "tensor_less_than_11 = tensor_two_dim[tensor_two_dim < 11]\n",
        "print(tensor_less_than_11)\n",
        "\n",
        "# to get the values in python way instead of torch, use numpy function, but before shift it from GPU to CPU\n",
        "tensor_less_than_11 = tensor_less_than_11.cpu().numpy()\n",
        "print(tensor_less_than_11)\n",
        "\n",
        "#combine tensor\n",
        "combine_tensor = torch.stack([tensor_two_dim, tensor_two_dim])\n",
        "print(combine_tensor)\n",
        "\n",
        "\n",
        "#split tensor\n",
        "unbind_tesnor = torch.unbind(tensor_two_dim)\n",
        "print(unbind_tesnor)\n",
        "\n",
        "#split tensor by column\n",
        "unbind_tesnor = torch.unbind(tensor_two_dim, dim = 1)\n",
        "print(unbind_tesnor)\n",
        "\n",
        "\n",
        "\n",
        "\n"
      ],
      "metadata": {
        "colab": {
          "base_uri": "https://localhost:8080/"
        },
        "id": "YtjzHKWVAkMs",
        "outputId": "1c33fab3-9b4f-455b-937e-94b5417153bc"
      },
      "execution_count": 46,
      "outputs": [
        {
          "output_type": "stream",
          "name": "stdout",
          "text": [
            "tensor([[15, 10,  1,  1, 12,  4],\n",
            "        [ 7, 18,  4, 14, 18, 13],\n",
            "        [14, 16, 11,  6, 12,  4],\n",
            "        [14, 17,  2, 19, 19, 14]], device='cuda:0')\n",
            "tensor([10,  1,  1,  4,  7,  4,  6,  4,  2], device='cuda:0')\n",
            "[10  1  1  4  7  4  6  4  2]\n",
            "tensor([[[15, 10,  1,  1, 12,  4],\n",
            "         [ 7, 18,  4, 14, 18, 13],\n",
            "         [14, 16, 11,  6, 12,  4],\n",
            "         [14, 17,  2, 19, 19, 14]],\n",
            "\n",
            "        [[15, 10,  1,  1, 12,  4],\n",
            "         [ 7, 18,  4, 14, 18, 13],\n",
            "         [14, 16, 11,  6, 12,  4],\n",
            "         [14, 17,  2, 19, 19, 14]]], device='cuda:0')\n",
            "(tensor([15, 10,  1,  1, 12,  4], device='cuda:0'), tensor([ 7, 18,  4, 14, 18, 13], device='cuda:0'), tensor([14, 16, 11,  6, 12,  4], device='cuda:0'), tensor([14, 17,  2, 19, 19, 14], device='cuda:0'))\n",
            "(tensor([15,  7, 14, 14], device='cuda:0'), tensor([10, 18, 16, 17], device='cuda:0'), tensor([ 1,  4, 11,  2], device='cuda:0'), tensor([ 1, 14,  6, 19], device='cuda:0'), tensor([12, 18, 12, 19], device='cuda:0'), tensor([ 4, 13,  4, 14], device='cuda:0'))\n"
          ]
        }
      ]
    }
  ]
}