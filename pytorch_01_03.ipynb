{
  "nbformat": 4,
  "nbformat_minor": 0,
  "metadata": {
    "colab": {
      "provenance": [],
      "gpuType": "T4",
      "authorship_tag": "ABX9TyNANimYIDso4n3Rq1lCx1Ee",
      "include_colab_link": true
    },
    "kernelspec": {
      "name": "python3",
      "display_name": "Python 3"
    },
    "language_info": {
      "name": "python"
    },
    "accelerator": "GPU"
  },
  "cells": [
    {
      "cell_type": "markdown",
      "metadata": {
        "id": "view-in-github",
        "colab_type": "text"
      },
      "source": [
        "<a href=\"https://colab.research.google.com/github/sadidkhan/pytorch_essentials/blob/main/pytorch_01_03.ipynb\" target=\"_parent\"><img src=\"https://colab.research.google.com/assets/colab-badge.svg\" alt=\"Open In Colab\"/></a>"
      ]
    },
    {
      "cell_type": "code",
      "execution_count": 3,
      "metadata": {
        "id": "SZVTtigPfqLd",
        "colab": {
          "base_uri": "https://localhost:8080/"
        },
        "outputId": "0694a8df-a825-41f4-f194-48e6a40b2b10"
      },
      "outputs": [
        {
          "output_type": "stream",
          "name": "stdout",
          "text": [
            "2.8.0+cu126\n",
            "True\n",
            "cuda:0\n"
          ]
        }
      ],
      "source": [
        "import torch\n",
        "\n",
        "print(torch.__version__)\n",
        "print(torch.cuda.is_available())\n",
        "\n",
        "device = torch.device(\"cuda:0\" if torch.cuda.is_available() else \"cpu\")\n",
        "print(device)\n",
        "\n"
      ]
    },
    {
      "cell_type": "code",
      "source": [
        "tensor1 = torch.tensor([[12,10,11,9],[13,15,14,16]])\n",
        "tensor2 = torch.tensor([[1,2,3,4],[5,6,7,8]])\n",
        "print(tensor1)\n",
        "print(tensor2)\n",
        "\n",
        "add_tensor = tensor1 + tensor2\n",
        "print(add_tensor)\n",
        "print(add_tensor.size())"
      ],
      "metadata": {
        "colab": {
          "base_uri": "https://localhost:8080/"
        },
        "id": "r31y4tFWiC3Y",
        "outputId": "a596355e-9288-4606-9fd1-a0f724798a81"
      },
      "execution_count": 12,
      "outputs": [
        {
          "output_type": "stream",
          "name": "stdout",
          "text": [
            "tensor([[12, 10, 11,  9],\n",
            "        [13, 15, 14, 16]])\n",
            "tensor([[1, 2, 3, 4],\n",
            "        [5, 6, 7, 8]])\n",
            "tensor([[13, 12, 14, 13],\n",
            "        [18, 21, 21, 24]])\n",
            "torch.Size([2, 4])\n"
          ]
        }
      ]
    },
    {
      "cell_type": "code",
      "source": [],
      "metadata": {
        "id": "RpZ9qaqLybUp"
      },
      "execution_count": null,
      "outputs": []
    },
    {
      "cell_type": "code",
      "source": [
        "sub_tesnor = tensor1 - tensor2\n",
        "print(sub_tesnor)"
      ],
      "metadata": {
        "colab": {
          "base_uri": "https://localhost:8080/"
        },
        "id": "ccip0SBolb4g",
        "outputId": "b00c7857-2b6a-474b-9049-548e39e1f570"
      },
      "execution_count": 8,
      "outputs": [
        {
          "output_type": "stream",
          "name": "stdout",
          "text": [
            "tensor([[11,  8,  8,  5],\n",
            "        [ 8,  9,  7,  8]], device='cuda:0')\n"
          ]
        }
      ]
    },
    {
      "cell_type": "code",
      "source": [
        "device = torch.device(\"cuda:0\" if torch.cuda.is_available() else \"cpu\")\n",
        "print(device)\n",
        "\n",
        "\n",
        "tensor_A = torch.tensor([[1,2,3],[4,5,6]], device=device)\n",
        "tensor_B = torch.tensor([[10,20,30],[40,50,60]], device=device)\n",
        "print(tensor_A)\n",
        "print(tensor_B)\n",
        "\n",
        "mul_tensor = tensor_A * tensor_B\n",
        "print(mul_tensor)"
      ],
      "metadata": {
        "colab": {
          "base_uri": "https://localhost:8080/"
        },
        "id": "FDy3aB7rwrH8",
        "outputId": "27261b9e-6287-4320-e6e3-2973264ec914"
      },
      "execution_count": 10,
      "outputs": [
        {
          "output_type": "stream",
          "name": "stdout",
          "text": [
            "cuda:0\n",
            "tensor([[1, 2, 3],\n",
            "        [4, 5, 6]], device='cuda:0')\n",
            "tensor([[10, 20, 30],\n",
            "        [40, 50, 60]], device='cuda:0')\n",
            "tensor([[ 10,  40,  90],\n",
            "        [160, 250, 360]], device='cuda:0')\n"
          ]
        }
      ]
    },
    {
      "cell_type": "code",
      "source": [
        "import numpy as np\n",
        "\n",
        "tensor_from_list = torch.tensor([1,2,3,4,5])\n",
        "print(tensor_from_list)\n",
        "\n",
        "\n",
        "tensor_from_touple = torch.tensor((1,2,3,4,5))\n",
        "print(tensor_from_touple)\n",
        "\n",
        "tensor_from_numpy = torch.tensor(np.array([1,2,3,4,5]))\n",
        "print(tensor_from_numpy)"
      ],
      "metadata": {
        "colab": {
          "base_uri": "https://localhost:8080/"
        },
        "id": "P_oO34i9yc55",
        "outputId": "fc3fdd15-3172-4a83-94a5-348a15942e5b"
      },
      "execution_count": 13,
      "outputs": [
        {
          "output_type": "stream",
          "name": "stdout",
          "text": [
            "tensor([1, 2, 3, 4, 5])\n",
            "tensor([1, 2, 3, 4, 5])\n",
            "tensor([1, 2, 3, 4, 5])\n"
          ]
        }
      ]
    }
  ]
}